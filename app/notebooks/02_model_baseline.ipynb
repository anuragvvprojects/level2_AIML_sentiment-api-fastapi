{
  "cells": [
    {
      "cell_type": "markdown",
      "metadata": {},
      "source": [
        "# 02 \u2013 Baseline Inference\n",
        "\n",
        "Try a Transformers pipeline baseline. If `transformers` isn't available, a simple rule-based fallback is provided.\n"
      ]
    },
    {
      "cell_type": "code",
      "metadata": {},
      "execution_count": null,
      "outputs": [],
      "source": [
        "text = \"I love how fast this shipped, great service!\"\n",
        "\n",
        "try:\n",
        "    from transformers import pipeline\n",
        "    model_id = \"distilbert-base-uncased-finetuned-sst-2-english\"\n",
        "    clf = pipeline(\"sentiment-analysis\", model=model_id)\n",
        "    res = clf(text)[0]\n",
        "    res\n",
        "except Exception as e:\n",
        "    print(\"Transformers pipeline unavailable, falling back to heuristic:\", e)\n",
        "    pos = {\"love\",\"great\",\"excellent\",\"amazing\",\"awesome\",\"good\",\"fast\"}\n",
        "    neg = {\"bad\",\"terrible\",\"awful\",\"slow\",\"refund\",\"worse\",\"worst\"}\n",
        "    score = 0\n",
        "    for tok in text.lower().split():\n",
        "        if tok.strip(\".,!?\") in pos: score += 1\n",
        "        if tok.strip(\".,!?\") in neg: score -= 1\n",
        "    label = \"POSITIVE\" if score>0 else (\"NEGATIVE\" if score<0 else \"NEUTRAL\")\n",
        "    {\"label\": label, \"score\": abs(score)/3.0}\n"
      ]
    },
    {
      "cell_type": "code",
      "metadata": {},
      "execution_count": null,
      "outputs": [],
      "source": [
        "# Batch predictions helper (pipeline or heuristic)\n",
        "def predict_batch(texts):\n",
        "    out = []\n",
        "    try:\n",
        "        from transformers import pipeline\n",
        "        model_id = \"distilbert-base-uncased-finetuned-sst-2-english\"\n",
        "        clf = pipeline(\"sentiment-analysis\", model=model_id)\n",
        "        for r in clf(texts):\n",
        "            out.append(r[0] if isinstance(r, list) else r)\n",
        "    except Exception:\n",
        "        pos = {\"love\",\"great\",\"excellent\",\"amazing\",\"awesome\",\"good\",\"fast\"}\n",
        "        neg = {\"bad\",\"terrible\",\"awful\",\"slow\",\"refund\",\"worse\",\"worst\"}\n",
        "        for t in texts:\n",
        "            s = 0\n",
        "            for tok in t.lower().split():\n",
        "                if tok.strip(\".,!?\") in pos: s += 1\n",
        "                if tok.strip(\".,!?\") in neg: s -= 1\n",
        "            label = \"POSITIVE\" if s>0 else (\"NEGATIVE\" if s<0 else \"NEUTRAL\")\n",
        "            out.append({\"label\": label, \"score\": abs(s)/3.0})\n",
        "    return out\n",
        "\n",
        "predict_batch([\n",
        "    \"Amazing quality, fast delivery.\",\n",
        "    \"Worst purchase ever.\",\n",
        "    \"It's fine.\"\n",
        "])\n"
      ]
    }
  ],
  "metadata": {
    "kernelspec": {
      "name": "python3",
      "display_name": "Python 3"
    },
    "language_info": {
      "name": "python",
      "version": "3.11.8"
    }
  },
  "nbformat": 4,
  "nbformat_minor": 5
}