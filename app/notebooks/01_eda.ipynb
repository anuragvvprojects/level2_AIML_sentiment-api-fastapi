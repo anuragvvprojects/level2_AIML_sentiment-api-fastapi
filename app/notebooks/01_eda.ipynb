{
  "cells": [
    {
      "cell_type": "markdown",
      "metadata": {},
      "source": [
        "# 01 \u2013 EDA (Sentiment Text)\n",
        "\n",
        "Quick exploratory analysis on sample sentiment texts. Replace the toy data with your dataset or wire a loader.\n"
      ]
    },
    {
      "cell_type": "code",
      "metadata": {},
      "execution_count": null,
      "outputs": [],
      "source": [
        "texts = [\n",
        "    \"I absolutely loved this product \u2014 works great!\",\n",
        "    \"This was terrible and I want a refund.\",\n",
        "    \"It's okay, does the job.\",\n",
        "    \"Amazing value for the price.\",\n",
        "    \"Worst experience. Totally disappointed.\"\n",
        "]\n",
        "labels = [\"POSITIVE\",\"NEGATIVE\",\"NEUTRAL\",\"POSITIVE\",\"NEGATIVE\"]\n",
        "\n",
        "import pandas as pd\n",
        "df = pd.DataFrame({\"text\": texts, \"label\": labels})\n",
        "df[\"len\"] = df[\"text\"].str.len()\n",
        "df.head()\n"
      ]
    },
    {
      "cell_type": "code",
      "metadata": {},
      "execution_count": null,
      "outputs": [],
      "source": [
        "# Basic stats\n",
        "df.describe(include=\"all\")\n"
      ]
    },
    {
      "cell_type": "code",
      "metadata": {},
      "execution_count": null,
      "outputs": [],
      "source": [
        "# Length distribution\n",
        "import matplotlib.pyplot as plt\n",
        "df[\"len\"].hist(bins=10)\n",
        "plt.title(\"Text length distribution\")\n",
        "plt.xlabel(\"characters\")\n",
        "plt.ylabel(\"count\")\n",
        "plt.show()\n"
      ]
    }
  ],
  "metadata": {
    "kernelspec": {
      "name": "python3",
      "display_name": "Python 3"
    },
    "language_info": {
      "name": "python",
      "version": "3.11.8"
    }
  },
  "nbformat": 4,
  "nbformat_minor": 5
}